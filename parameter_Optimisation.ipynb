{
  "nbformat": 4,
  "nbformat_minor": 0,
  "metadata": {
    "colab": {
      "provenance": []
    },
    "kernelspec": {
      "name": "python3",
      "display_name": "Python 3"
    },
    "language_info": {
      "name": "python"
    }
  },
  "cells": [
    {
      "cell_type": "code",
      "execution_count": null,
      "metadata": {
        "colab": {
          "base_uri": "https://localhost:8080/"
        },
        "id": "foqsxl4_DUfB",
        "outputId": "a1775ef5-b369-4b96-eb31-04551861b5a5"
      },
      "outputs": [
        {
          "output_type": "stream",
          "name": "stderr",
          "text": [
            "<ipython-input-3-6ad8578daf42>:14: FutureWarning: The 'delim_whitespace' keyword in pd.read_csv is deprecated and will be removed in a future version. Use ``sep='\\s+'`` instead\n",
            "  features = pd.read_csv(\"UCI HAR Dataset/features.txt\", delim_whitespace=True, header=None)\n",
            "<ipython-input-3-6ad8578daf42>:15: FutureWarning: The 'delim_whitespace' keyword in pd.read_csv is deprecated and will be removed in a future version. Use ``sep='\\s+'`` instead\n",
            "  X = pd.read_csv(\"UCI HAR Dataset/train/X_train.txt\", delim_whitespace=True, header=None)\n"
          ]
        }
      ],
      "source": [
        "import pandas as pd\n",
        "import numpy as np\n",
        "from sklearn.model_selection import train_test_split\n",
        "from sklearn.svm import NuSVC\n",
        "from sklearn.metrics import accuracy_score\n",
        "from sklearn.preprocessing import StandardScaler\n",
        "import matplotlib.pyplot as plt\n",
        "import random\n",
        "\n",
        "# Load the dataset\n",
        "url = \"https://archive.ics.uci.edu/ml/machine-learning-databases/00240/UCI%20HAR%20Dataset.zip\"\n",
        "!wget -q $url -O har.zip\n",
        "!unzip -qq har.zip\n",
        "features = pd.read_csv(\"UCI HAR Dataset/features.txt\", delim_whitespace=True, header=None)\n",
        "X = pd.read_csv(\"UCI HAR Dataset/train/X_train.txt\", delim_whitespace=True, header=None)\n",
        "X.columns = features[1]\n",
        "y = pd.read_csv(\"UCI HAR Dataset/train/y_train.txt\", header=None).values.ravel()\n",
        "\n",
        "# Standardize features\n",
        "scaler = StandardScaler()\n",
        "X_scaled = scaler.fit_transform(X)\n",
        "\n",
        "# Parameter search space\n",
        "kernels = ['rbf', 'poly', 'sigmoid']\n",
        "nus = np.linspace(0.1, 0.9, 9)\n",
        "epsilons = np.linspace(0.001, 0.2, 10)\n",
        "\n",
        "results = []\n",
        "convergence_data = []\n",
        "\n",
        "for sample in range(10):\n",
        "    # Split into train/test (70/30)\n",
        "    X_train, X_test, y_train, y_test = train_test_split(X_scaled, y, test_size=0.3, random_state=sample)\n",
        "\n",
        "    best_acc = 0\n",
        "    best_params = None\n",
        "    acc_progress = []\n",
        "\n",
        "    for iteration in range(100):\n",
        "        kernel = random.choice(kernels)\n",
        "        nu = round(random.choice(nus), 2)\n",
        "        epsilon = round(random.choice(epsilons), 3)\n",
        "\n",
        "        try:\n",
        "            model = NuSVC(kernel=kernel, nu=nu)\n",
        "            model.fit(X_train, y_train)\n",
        "            y_pred = model.predict(X_test)\n",
        "            acc = accuracy_score(y_test, y_pred)\n",
        "        except:\n",
        "            acc = 0  # skip invalid combos\n",
        "\n",
        "        acc_progress.append(acc)\n",
        "\n",
        "        if acc > best_acc:\n",
        "            best_acc = acc\n",
        "            best_params = (kernel, nu, epsilon)\n",
        "\n",
        "    results.append({\n",
        "        \"Sample\": f\"S{sample+1}\",\n",
        "        \"Accuracy\": round(best_acc * 100, 2),\n",
        "        \"Kernel\": best_params[0],\n",
        "        \"Nu\": best_params[1],\n",
        "        \"Epsilon\": best_params[2],\n",
        "        \"Acc_Progress\": acc_progress\n",
        "    })\n",
        "\n",
        "# Save Table 1\n",
        "df_results = pd.DataFrame(results)\n",
        "df_results_display = df_results[['Sample', 'Accuracy', 'Kernel', 'Nu', 'Epsilon']]\n",
        "print(\"\\n=== Table 1: Comparative Performance ===\")\n",
        "print(df_results_display.to_string(index=False))\n",
        "\n",
        "# Plot convergence for best sample\n",
        "best_index = df_results['Accuracy'].idxmax()\n",
        "plt.figure(figsize=(10,5))\n",
        "plt.plot(range(1, 101), results[best_index]['Acc_Progress'], label=\"Accuracy\")\n",
        "plt.title(f\"Convergence of Best SVM (Sample: {results[best_index]['Sample']})\")\n",
        "plt.xlabel(\"Iteration\")\n",
        "plt.ylabel(\"Accuracy\")\n",
        "plt.grid(True)\n",
        "plt.legend()\n",
        "plt.show()\n"
      ]
    },
    {
      "cell_type": "code",
      "source": [],
      "metadata": {
        "id": "hI8DVYqqFFv2"
      },
      "execution_count": null,
      "outputs": []
    }
  ]
}